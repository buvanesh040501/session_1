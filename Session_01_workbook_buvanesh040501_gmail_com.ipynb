{
  "nbformat": 4,
  "nbformat_minor": 0,
  "metadata": {
    "colab": {
      "name": "Session_01_workbook_buvanesh040501@gmail.com.ipynb",
      "provenance": [],
      "collapsed_sections": []
    },
    "kernelspec": {
      "name": "python3",
      "display_name": "Python 3"
    },
    "language_info": {
      "name": "python"
    }
  },
  "cells": [
    {
      "cell_type": "markdown",
      "metadata": {
        "id": "Vsr0RuxF8gTt"
      },
      "source": [
        "#Workouts for the ML intro session\n"
      ]
    },
    {
      "cell_type": "markdown",
      "metadata": {
        "id": "VMrfCQbT8t-K"
      },
      "source": [
        "##Complete all the cells and upload the note book to github\n",
        "\n",
        "**Kindly use your own explanations and examples. you refer the internet but try to explain things with your own words and examples**\n"
      ]
    },
    {
      "cell_type": "markdown",
      "metadata": {
        "id": "4TiM_moD8-V_"
      },
      "source": [
        "\n",
        "\n",
        "1.  Will machine overtake humans in near future ? if yes explain why ? if not explain what prevents machines to learn/perform at human level ?\n",
        "\n",
        "Yes, robots will replace humans for many jobs, just as innovative farming equipment replaced humans and horses during the industrial revolution. However, in the wake of these\n",
        "changes, humans will be needed to create and deliver value in brand new ways for brand new business models\n",
        "\n",
        "\n",
        "\n",
        "\n",
        "\n"
      ]
    },
    {
      "cell_type": "markdown",
      "metadata": {
        "id": "W9aIe-Pl9uED"
      },
      "source": [
        "2. What recent development you think is very important or inspiring in machine learning/AI field ? just few words on any one or two\n",
        "\n",
        "Machine learning falls under the umbrella of AI, that provides systems with the ability to automatically learn and improve from experience without being explicitly programmed.\n",
        "The process of learning begins with observations or data, such as examples, direct experience, or instruction, in order to look for patterns in data and make better decisions \n",
        "in the future based on the examples we provide.The primary aim is to allow the computers to learn automatically without human intervention or assistance and adjust actions\n",
        "accordingly\n",
        "\n"
      ]
    },
    {
      "cell_type": "markdown",
      "metadata": {
        "id": "XcQoFPwg-ChB"
      },
      "source": [
        "3. What is the differnce between regular programming or machine learning ?\n",
        "\n",
        "Traditional computer programming has been around for more than a century, with the first known computer program dating back to the mid 1800s. Traditional Programming \n",
        "refers to any manually created program that uses input data and runs on a computer to produce the output.But for decades now, an advanced type of programming has revolutionized\n",
        "business, particularly in the areas of intelligence and embedded analytics. In Machine Learning, also known as augmented analytics, the input data and output are fed to an \n",
        "algorithm to create a program. This yields powerful insights that can be used to predict future outcomes"
      ]
    },
    {
      "cell_type": "markdown",
      "metadata": {
        "id": "gJXmTK0r-Ydb"
      },
      "source": [
        "4. What is model is machine learning ?\n",
        "\n",
        "\n",
        "A machine learning model is a file that has been trained to recognize certain types of patterns. You train a model over a set of data, providing it an algorithm that it can use to reason over and learn from those data.\n"
      ]
    },
    {
      "cell_type": "markdown",
      "metadata": {
        "id": "XGuClocF-dRX"
      },
      "source": [
        "5. how/where machine learning stores its learning ? \n",
        "\n",
        "\n",
        "Machine learning is a subset of artificial intelligence. Machine learning technology uses data to make predictions or perform actions. The more data the tech gets exposed to,\n",
        "the more accurate its outputs. That's how algorithms in this area can get described as being able to 'learn'.\n"
      ]
    },
    {
      "cell_type": "markdown",
      "metadata": {
        "id": "SFVwc5jC-oDE"
      },
      "source": [
        "6. What is training ?\n",
        "\n",
        "Training a model simply means learning (determining) good values for all the weights and the bias from labeled examples. In supervised learning, a machine learning\n",
        "algorithm builds a model by examining many examples and attempting to find a model that minimizes loss; this process is called empirical risk minimization.\n",
        "\n",
        "\n"
      ]
    },
    {
      "cell_type": "markdown",
      "metadata": {
        "id": "BDx5DiJ4-ro_"
      },
      "source": [
        "7. what is reinforcement learning ?\n",
        "\n",
        "Reinforcement learning (RL) is an area of machine learning concerned with how intelligent agents ought to take actions in an environment in order to maximize the notion \n",
        "of cumulative reward.Reinforcement learning is one of three basic machine learning paradigms, alongside supervised learning and unsupervised learning."
      ]
    },
    {
      "cell_type": "markdown",
      "metadata": {
        "id": "hYk7xK_Z-9dN"
      },
      "source": [
        "8. Give use cases for classification, clustering and regression ?\n",
        "\n",
        "*Sales of a product; pricing, performance, and risk parameters\n",
        "  \n",
        "  *Generating insights on consumer behavior, profitability, and other business factors"
      ]
    },
    {
      "cell_type": "markdown",
      "metadata": {
        "id": "k0YwsEGa_baZ"
      },
      "source": [
        "9. What is dimension ? will more dimension be helpful to improve a machine learning model ? \n",
        "\n",
        "The number of input variables or features for a dataset is referred to as its dimensionality. Dimensionality reduction refers to techniques that reduce the number of \n",
        "input variables in a dataset. ... Large numbers of input features can cause poor performance for machine learning algorithms.\n"
      ]
    },
    {
      "cell_type": "markdown",
      "metadata": {
        "id": "-od_1BPK_ktN"
      },
      "source": [
        "10. what is hypothetical space ? explain with an example\n",
        "\n",
        "Hypothetical technology is technology that does not exist yet, but that could exist in the future. This article presents examples of technologies that have been\n",
        "hypothesized or proposed, but that have not been developed yet. Some examples of hypothetical technology are flying cars, jetpacks, ... Some, like the space elevator are \n",
        "under active development"
      ]
    }
  ]
}